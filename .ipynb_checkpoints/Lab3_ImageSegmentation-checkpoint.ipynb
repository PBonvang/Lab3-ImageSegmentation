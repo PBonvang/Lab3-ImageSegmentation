{
 "cells": [
  {
   "cell_type": "markdown",
   "metadata": {},
   "source": [
    "# K-means clustering and Tensorflow image recognition\n",
    "This notebook was created as an experiment, using k-means clustering to determine bottle caps in pictures"
   ]
  },
  {
   "cell_type": "code",
   "execution_count": 52,
   "metadata": {},
   "outputs": [],
   "source": [
    "%matplotlib inline\n",
    "import matplotlib as mpl\n",
    "mpl.rcParams['figure.dpi']=100\n",
    "import numpy as np\n",
    "from imageio import imread\n",
    "from skimage.transform import rescale\n",
    "from skimage.color import rgb2lab, lab2rgb\n",
    "from sklearn.metrics.pairwise import euclidean_distances\n",
    "import matplotlib.pyplot as plt\n",
    "from mpl_toolkits import mplot3d\n",
    "import math\n",
    "import cv2\n",
    "from tensorflow.keras.applications import mobilenet_v2\n",
    "import os\n",
    "from os.path import isfile, join\n",
    "\n",
    "# Set up neural network\n",
    "model = mobilenet_v2.MobileNetV2(weights='imagenet')\n",
    "DESIRED_IMG_HEIGHT = 244\n",
    "BASE_PATH = \"samples/resized\"\n",
    "TF_NAME = \"soccer_ball\""
   ]
  },
  {
   "cell_type": "markdown",
   "metadata": {},
   "source": [
    "Load sample images, reshape them, reducing the workload, and display it."
   ]
  },
  {
   "cell_type": "code",
   "execution_count": 53,
   "metadata": {},
   "outputs": [],
   "source": [
    "def rescaleImage(raw_image):\n",
    "    return rescale(raw_image, DESIRED_IMG_HEIGHT/raw_image.shape[0], mode='reflect', multichannel=True, anti_aliasing=True)\n",
    "\n",
    "def get_image_prediction_score(image, tf_name):\n",
    "    frame = image*np.array([255,255,255])\n",
    "    min_dim = np.min(frame.shape[0:2])\n",
    "    resized_frame = cv2.resize(frame[0:min_dim, 0:min_dim, :], (224, 224))\n",
    "    \n",
    "    processed_frame = mobilenet_v2.preprocess_input(np.expand_dims(resized_frame, axis=0))\n",
    "    predictions = model.predict(processed_frame)\n",
    "    \n",
    "    for node, desc, score in mobilenet_v2.decode_predictions(predictions)[0]:\n",
    "        if (desc == tf_name):\n",
    "            return 100 * score"
   ]
  },
  {
   "cell_type": "code",
   "execution_count": 54,
   "metadata": {},
   "outputs": [],
   "source": [
    "class Image:\n",
    "    def __init__(self,file_name):\n",
    "        self.name = file_name\n",
    "        self.image = rescaleImage(imread(BASE_PATH+\"/\"+file_name))\n",
    "        self.size = os.path.getsize(BASE_PATH+\"/\"+file_name)\n",
    "        self.base_accuracy = None\n",
    "        self.K_accuracies = None\n",
    "        self.K_stds = None"
   ]
  },
  {
   "attachments": {
    "3b1dfb0c-08c0-4eda-b727-6ccd8daf97b9.png": {
     "image/png": "[encoded data removed]"
    }
   },
   "cell_type": "markdown",
   "metadata": {},
   "source": [
    "![image.png](attachment:3b1dfb0c-08c0-4eda-b727-6ccd8daf97b9.png)"
   ]
  },
  {
   "cell_type": "code",
   "execution_count": 55,
   "metadata": {
    "scrolled": true
   },
   "outputs": [],
   "source": [
    "image_files = os.listdir(BASE_PATH)\n",
    "image_files.sort()\n",
    "images = [Image(file_name) for file_name in image_files]"
   ]
  },
  {
   "cell_type": "code",
   "execution_count": 56,
   "metadata": {},
   "outputs": [],
   "source": [
    "########## Get base accuracy ##########\n",
    "for image in images:\n",
    "    image.base_accuracy = get_image_prediction_score(image.image,TF_NAME)"
   ]
  },
  {
   "cell_type": "code",
   "execution_count": 57,
   "metadata": {},
   "outputs": [
    {
     "name": "stdout",
     "output_type": "stream",
     "text": [
      "bold1.jpg: 95.24652361869812\n",
      "bold2.jpg: 74.17648434638977\n",
      "bold3.jpg: 92.31076836585999\n",
      "bold4.jpg: 99.80794191360474\n",
      "bold5.jpg: 84.15576815605164\n",
      "bold6.jpg: 99.71812963485718\n",
      "bold7.jpg: 97.74725437164307\n",
      "bold8.jpg: 43.38596165180206\n"
     ]
    }
   ],
   "source": [
    "for image in images:\n",
    "    print(\"{}: {}\".format(image.name,image.base_accuracy))"
   ]
  },
  {
   "cell_type": "markdown",
   "metadata": {},
   "source": [
    "Cluster the image pixels, treating colors as 3-dimensional points"
   ]
  },
  {
   "cell_type": "code",
   "execution_count": 58,
   "metadata": {},
   "outputs": [],
   "source": [
    "############ Clustering algorithems ############\n",
    "def cluster_assignments(X, Y):\n",
    "    return np.argmin(euclidean_distances(X,Y), axis=1)\n",
    "\n",
    "def cluster_analysis(pixels,K):\n",
    "    centers = np.array(\n",
    "        [pixels.mean(0) + (np.random.randn(3)/10) # Because X is an array of pixels each presented by an array of [R,G,B]. X.mean(0) results in an array of [mean(R), mean(G), mean(B)]\n",
    "         for _ in range(K)])\n",
    "    y_kmeans = cluster_assignments(pixels, centers)\n",
    "    previous_cluster_assignments = [];\n",
    "\n",
    "    # repeat estimation a number of times (could do something smarter, like comparing if clusters change)\n",
    "    while not np.array_equal(y_kmeans, previous_cluster_assignments):\n",
    "        # move the centers to the mean of their assigned points (if any)\n",
    "        for i, c in enumerate(centers):\n",
    "            points = pixels[y_kmeans == i]\n",
    "            if len(points):\n",
    "                centers[i] = points.mean(0)\n",
    "\n",
    "        previous_cluster_assignments = y_kmeans.copy()\n",
    "        # assign each point to the closest center\n",
    "        y_kmeans = cluster_assignments(pixels, centers)\n",
    "    \n",
    "    return {\n",
    "        \"assignments\": y_kmeans,\n",
    "        \"centers\": centers\n",
    "    }\n",
    "\n",
    "def average_variance(values, assignments, centers, K):\n",
    "    values = np.array(values)\n",
    "    assignments = np.array(assignments)\n",
    "    centers = np.array(centers)\n",
    "    clusterVariances = []\n",
    "\n",
    "    for i in range(K):\n",
    "        clusterValues = values[assignments==i]\n",
    "        clusterCenter = centers[i-1]\n",
    "        distance = [abs(math.dist(value,clusterCenter)) for value in clusterValues]\n",
    "\n",
    "        if len(clusterValues):\n",
    "            clusterVariances.append(np.sum(distance)/len(clusterValues))\n",
    "        else:\n",
    "            clusterVariances.append(0)\n",
    "\n",
    "    return sum(clusterVariances)/K"
   ]
  },
  {
   "cell_type": "code",
   "execution_count": 59,
   "metadata": {},
   "outputs": [
    {
     "name": "stdout",
     "output_type": "stream",
     "text": [
      "bold1.jpg  done!\n",
      "bold2.jpg  done!\n",
      "bold3.jpg  done!\n",
      "bold4.jpg  done!\n",
      "bold5.jpg  done!\n",
      "bold6.jpg  done!\n",
      "bold7.jpg  done!\n",
      "bold8.jpg  done!\n",
      "Time elapsed:  8028.668161392212\n"
     ]
    }
   ],
   "source": [
    "import time\n",
    "start_time=time.time()\n",
    "\n",
    "starting_K = 2\n",
    "K_range = range(starting_K,16)\n",
    "sample_size = 70\n",
    "\n",
    "for image in images:\n",
    "    shape = image.image.shape\n",
    "    pixels = rgb2lab(image.image).reshape(-1, 3) # Lab has a bigger color space\n",
    "    avg_K_accuracies = []\n",
    "    K_stds = []\n",
    "    \n",
    "    for K in K_range:\n",
    "        K_accuracies = []\n",
    "        for _ in range(sample_size):\n",
    "            K_values = cluster_analysis(pixels,K)\n",
    "            color_clustered_image = lab2rgb(K_values[\"centers\"][K_values[\"assignments\"],:].reshape(shape[0], shape[1], 3))\n",
    "            \n",
    "            prediction_score = get_image_prediction_score(color_clustered_image,TF_NAME) or 0\n",
    "            K_accuracies.append(prediction_score)\n",
    "        \n",
    "        avg_accuracy = sum(K_accuracies)/sample_size\n",
    "        avg_K_accuracies.append(avg_accuracy)\n",
    "        std = math.sqrt(sum([(accuracy - avg_accuracy)**2 for accuracy in K_accuracies]))\n",
    "        K_stds.append(std)\n",
    "    \n",
    "    print(image.name, \" done!\")\n",
    "    image.K_accuracies = avg_K_accuracies\n",
    "    image.K_stds = K_stds\n",
    "\n",
    "end_time=time.time()-start_time\n",
    "print(\"Time elapsed: \", end_time)"
   ]
  },
  {
   "cell_type": "code",
   "execution_count": 64,
   "metadata": {},
   "outputs": [
    {
     "name": "stdout",
     "output_type": "stream",
     "text": [
      "_________________  bold1.jpg  _________________\n",
      "File size: 61.587 kB\n",
      "Base accuracy:  95.24652361869812\n",
      "K: 2, avg. score: 0.0%, STD: 0%\n",
      "K: 3, avg. score: 85.82%, STD: 0%\n",
      "K: 4, avg. score: 84.28%, STD: 1%\n",
      "K: 5, avg. score: 96.16%, STD: 41%\n",
      "K: 6, avg. score: 98.12%, STD: 0%\n",
      "K: 7, avg. score: 97.52%, STD: 3%\n",
      "K: 8, avg. score: 97.47%, STD: 7%\n",
      "K: 9, avg. score: 97.8%, STD: 3%\n",
      "K: 10, avg. score: 98.66%, STD: 3%\n",
      "K: 11, avg. score: 99.1%, STD: 1%\n",
      "K: 12, avg. score: 99.15%, STD: 1%\n",
      "K: 13, avg. score: 99.24%, STD: 1%\n",
      "K: 14, avg. score: 99.24%, STD: 2%\n",
      "K: 15, avg. score: 99.31%, STD: 1%\n",
      "_________________  bold2.jpg  _________________\n",
      "File size: 54.863 kB\n",
      "Base accuracy:  74.17648434638977\n",
      "K: 2, avg. score: 0.0%, STD: 0%\n",
      "K: 3, avg. score: 0.0%, STD: 0%\n",
      "K: 4, avg. score: 0.0%, STD: 0%\n",
      "K: 5, avg. score: 0.0%, STD: 0%\n",
      "K: 6, avg. score: 0.0%, STD: 0%\n",
      "K: 7, avg. score: 0.0%, STD: 0%\n",
      "K: 8, avg. score: 0.0%, STD: 0%\n",
      "K: 9, avg. score: 1.51%, STD: 20%\n",
      "K: 10, avg. score: 0.84%, STD: 13%\n",
      "K: 11, avg. score: 0.31%, STD: 8%\n",
      "K: 12, avg. score: 0.0%, STD: 0%\n",
      "K: 13, avg. score: 0.03%, STD: 2%\n",
      "K: 14, avg. score: 0.0%, STD: 0%\n",
      "K: 15, avg. score: 0.04%, STD: 3%\n",
      "_________________  bold3.jpg  _________________\n",
      "File size: 49.101 kB\n",
      "Base accuracy:  92.31076836585999\n",
      "K: 2, avg. score: 0.0%, STD: 0%\n",
      "K: 3, avg. score: 0.0%, STD: 0%\n",
      "K: 4, avg. score: 0.0%, STD: 0%\n",
      "K: 5, avg. score: 0.1%, STD: 4%\n",
      "K: 6, avg. score: 0.0%, STD: 0%\n",
      "K: 7, avg. score: 2.7%, STD: 5%\n",
      "K: 8, avg. score: 2.66%, STD: 5%\n",
      "K: 9, avg. score: 18.14%, STD: 75%\n",
      "K: 10, avg. score: 34.8%, STD: 147%\n",
      "K: 11, avg. score: 37.63%, STD: 186%\n",
      "K: 12, avg. score: 42.98%, STD: 182%\n",
      "K: 13, avg. score: 48.67%, STD: 123%\n",
      "K: 14, avg. score: 43.0%, STD: 138%\n",
      "K: 15, avg. score: 34.67%, STD: 133%\n",
      "_________________  bold4.jpg  _________________\n",
      "File size: 39.056 kB\n",
      "Base accuracy:  99.80794191360474\n",
      "K: 2, avg. score: 0.0%, STD: 0%\n",
      "K: 3, avg. score: 0.0%, STD: 0%\n",
      "K: 4, avg. score: 0.0%, STD: 0%\n",
      "K: 5, avg. score: 0.96%, STD: 12%\n",
      "K: 6, avg. score: 56.82%, STD: 224%\n",
      "K: 7, avg. score: 68.84%, STD: 208%\n",
      "K: 8, avg. score: 73.33%, STD: 194%\n",
      "K: 9, avg. score: 89.57%, STD: 88%\n",
      "K: 10, avg. score: 93.79%, STD: 84%\n",
      "K: 11, avg. score: 98.87%, STD: 4%\n",
      "K: 12, avg. score: 99.06%, STD: 9%\n",
      "K: 13, avg. score: 99.21%, STD: 5%\n",
      "K: 14, avg. score: 99.2%, STD: 3%\n",
      "K: 15, avg. score: 99.03%, STD: 4%\n",
      "_________________  bold5.jpg  _________________\n",
      "File size: 43.738 kB\n",
      "Base accuracy:  84.15576815605164\n",
      "K: 2, avg. score: 0.0%, STD: 0%\n",
      "K: 3, avg. score: 0.0%, STD: 0%\n",
      "K: 4, avg. score: 0.0%, STD: 0%\n",
      "K: 5, avg. score: 0.0%, STD: 0%\n",
      "K: 6, avg. score: 0.0%, STD: 0%\n",
      "K: 7, avg. score: 0.0%, STD: 0%\n",
      "K: 8, avg. score: 0.0%, STD: 0%\n",
      "K: 9, avg. score: 0.69%, STD: 22%\n",
      "K: 10, avg. score: 0.67%, STD: 26%\n",
      "K: 11, avg. score: 4.13%, STD: 55%\n",
      "K: 12, avg. score: 11.14%, STD: 127%\n",
      "K: 13, avg. score: 24.48%, STD: 151%\n",
      "K: 14, avg. score: 29.74%, STD: 144%\n",
      "K: 15, avg. score: 46.79%, STD: 83%\n",
      "_________________  bold6.jpg  _________________\n",
      "File size: 54.398 kB\n",
      "Base accuracy:  99.71812963485718\n",
      "K: 2, avg. score: 0.0%, STD: 0%\n",
      "K: 3, avg. score: 3.25%, STD: 8%\n",
      "K: 4, avg. score: 3.52%, STD: 30%\n",
      "K: 5, avg. score: 8.97%, STD: 39%\n",
      "K: 6, avg. score: 47.98%, STD: 213%\n",
      "K: 7, avg. score: 88.4%, STD: 125%\n",
      "K: 8, avg. score: 84.11%, STD: 101%\n",
      "K: 9, avg. score: 87.22%, STD: 126%\n",
      "K: 10, avg. score: 95.92%, STD: 30%\n",
      "K: 11, avg. score: 98.5%, STD: 14%\n",
      "K: 12, avg. score: 99.4%, STD: 6%\n",
      "K: 13, avg. score: 99.47%, STD: 5%\n",
      "K: 14, avg. score: 99.64%, STD: 4%\n",
      "K: 15, avg. score: 99.83%, STD: 2%\n",
      "_________________  bold7.jpg  _________________\n",
      "File size: 51.262 kB\n",
      "Base accuracy:  97.74725437164307\n",
      "K: 2, avg. score: 0.0%, STD: 0%\n",
      "K: 3, avg. score: 0.0%, STD: 0%\n",
      "K: 4, avg. score: 0.0%, STD: 0%\n",
      "K: 5, avg. score: 2.44%, STD: 17%\n",
      "K: 6, avg. score: 3.46%, STD: 4%\n",
      "K: 7, avg. score: 21.99%, STD: 113%\n",
      "K: 8, avg. score: 40.1%, STD: 113%\n",
      "K: 9, avg. score: 49.83%, STD: 94%\n",
      "K: 10, avg. score: 57.72%, STD: 95%\n",
      "K: 11, avg. score: 64.51%, STD: 92%\n",
      "K: 12, avg. score: 76.45%, STD: 54%\n",
      "K: 13, avg. score: 81.35%, STD: 66%\n",
      "K: 14, avg. score: 87.42%, STD: 53%\n",
      "K: 15, avg. score: 91.82%, STD: 44%\n",
      "_________________  bold8.jpg  _________________\n",
      "File size: 48.142 kB\n",
      "Base accuracy:  43.38596165180206\n",
      "K: 2, avg. score: 20.57%, STD: 0%\n",
      "K: 3, avg. score: 12.02%, STD: 1%\n",
      "K: 4, avg. score: 11.01%, STD: 0%\n",
      "K: 5, avg. score: 56.35%, STD: 161%\n",
      "K: 6, avg. score: 84.52%, STD: 209%\n",
      "K: 7, avg. score: 80.42%, STD: 112%\n",
      "K: 8, avg. score: 67.19%, STD: 59%\n",
      "K: 9, avg. score: 62.54%, STD: 44%\n",
      "K: 10, avg. score: 64.92%, STD: 28%\n",
      "K: 11, avg. score: 76.43%, STD: 76%\n",
      "K: 12, avg. score: 80.86%, STD: 33%\n",
      "K: 13, avg. score: 78.39%, STD: 31%\n",
      "K: 14, avg. score: 76.13%, STD: 56%\n",
      "K: 15, avg. score: 84.53%, STD: 41%\n"
     ]
    }
   ],
   "source": [
    "for image in images:\n",
    "    print(\"_________________ \",image.name,\" _________________\")\n",
    "    print(\"File size: {} kB\".format(image.size/1000))\n",
    "    print(\"Base accuracy: \",image.base_accuracy)\n",
    "    for K in K_range:\n",
    "        print(\"K: {}, avg. score: {}%, STD: {}%\".format(K, round(image.K_accuracies[K - starting_K],2),round(image.K_stds[K - starting_K]),2))"
   ]
  },
  {
   "cell_type": "markdown",
   "metadata": {},
   "source": [
    "****\n",
    "# Old"
   ]
  },
  {
   "cell_type": "code",
   "execution_count": 315,
   "metadata": {},
   "outputs": [
    {
     "name": "stdout",
     "output_type": "stream",
     "text": [
      "Optimal K:  4\n",
      "[52.33494308523436, 39.458149429213506, 47.93761633527235]\n",
      "Time elapsed:  0.42351865768432617\n"
     ]
    }
   ],
   "source": [
    "for image in images:\n",
    "    pixels = rgb2lab(image).reshape(-1, 3) # Lab has a bigger color space\n",
    "    K_accuracies = []\n",
    "    \n",
    "    for K in range(10):\n",
    "        print(K)\n",
    "    \n",
    "\n",
    "import time\n",
    "start_time=time.time()\n",
    "\n",
    "while len(K_variances) < 3\\\n",
    "    or abs(K_variances[K - starting_K - 1] - K_variances[K - starting_K]) \\\n",
    "     > abs((K_variances[K - starting_K - 1] - K_variances[K - starting_K - 2])):\n",
    "    K += 1\n",
    "    \n",
    "    K_values = cluster_analysis(pixels,K)    \n",
    "    K_variances.append(average_variance(pixels,K_values[\"assignments\"], K_values[\"centers\"], K))\n",
    "\n",
    "optimal_K =  K - 1\n",
    "print(\"Optimal K: \", optimal_K)\n",
    "print(K_variances)\n",
    "optimal_values = cluster_analysis(pixels,optimal_K)\n",
    "assignments = optimal_values[\"assignments\"]\n",
    "centers = optimal_values[\"centers\"]\n",
    "    \n",
    "end_time=time.time()-start_time\n",
    "print(\"Time elapsed: \", end_time)\n",
    "\n",
    "color_clustered_image = lab2rgb(centers[assignments,:].reshape(shape[0], shape[1], 3))"
   ]
  },
  {
   "cell_type": "markdown",
   "metadata": {},
   "source": [
    "Plot the result as an image, where each pixel is colored by its cluster mean"
   ]
  },
  {
   "cell_type": "code",
   "execution_count": 313,
   "metadata": {},
   "outputs": [
    {
     "data": {
      "image/png": "[encoded data removed]",
      "text/plain": [
       "<Figure size 600x400 with 1 Axes>"
      ]
     },
     "metadata": {
      "needs_background": "light"
     },
     "output_type": "display_data"
    }
   ],
   "source": [
    "plt.figure()\n",
    "plt.imshow(color_clustered_image)\n",
    "plt.axis('off');"
   ]
  },
  {
   "cell_type": "code",
   "execution_count": 303,
   "metadata": {},
   "outputs": [],
   "source": [
    "class Pixel:\n",
    "    def __init__(self, coordinates, lab):\n",
    "        self.coordinates = coordinates\n",
    "        self.pixel = lab\n",
    "\n",
    "def get_2D_pixel_coordinates_map(array):\n",
    "    shape = array.shape\n",
    "    coordinate_map = [[None]*shape[1] for _ in range(shape[0])]\n",
    "\n",
    "    i = shape[2] - 1\n",
    "    for (y, x, z), element in np.ndenumerate(array):\n",
    "        if (z < i):\n",
    "            continue\n",
    "\n",
    "        coordinate_map[y][x] = Pixel([x,y],array[y,x])\n",
    "    \n",
    "    return np.array(coordinate_map)"
   ]
  },
  {
   "cell_type": "code",
   "execution_count": 308,
   "metadata": {},
   "outputs": [],
   "source": [
    "import math\n",
    "\n",
    "def get_connected_groups(cluster):\n",
    "    non_used_pixels = np.copy(cluster).tolist()\n",
    "    groups = []\n",
    "    \n",
    "    while len(non_used_pixels) > 0:\n",
    "        starting_pixel=non_used_pixels[0]\n",
    "        group = [starting_pixel]\n",
    "        non_used_pixels.remove(starting_pixel)\n",
    "        \n",
    "        iteration_pixels = [starting_pixel]\n",
    "        new_pixels = []\n",
    "        while len(iteration_pixels) > 0:\n",
    "            for group_pixel in iteration_pixels:\n",
    "                for pixel in non_used_pixels:\n",
    "                    if math.dist(group_pixel.coordinates, pixel.coordinates):\n",
    "                        new_pixels.append(pixel)\n",
    "            \n",
    "            for new_pixel in new_pixels:\n",
    "                non_used_pixels.remove(new_pixel)\n",
    "            \n",
    "            group.extend(new_pixels)\n",
    "            iteration_pixels = new_pixels\n",
    "            new_pixels.clear()\n",
    "        \n",
    "        groups.append(group)\n",
    "\n",
    "def get_clusters_separated_by_connection(clusters):\n",
    "    connected_groups = []\n",
    "    for cluster in clusters:\n",
    "        connected_groups.append(get_connected_groups(cluster))\n",
    "    \n",
    "    return connected_groups"
   ]
  },
  {
   "cell_type": "code",
   "execution_count": 310,
   "metadata": {},
   "outputs": [
    {
     "name": "stdout",
     "output_type": "stream",
     "text": [
      "[None, None, None, None]\n"
     ]
    }
   ],
   "source": [
    "coordinate_map = get_2D_pixel_coordinates_map(color_clustered_image).reshape(-1,1)\n",
    "color_clusters = [coordinate_map[assignments == i] for i in range(optimal_K)]\n",
    "connected_clusters = get_clusters_separated_by_connection(color_clusters)\n",
    "print(connected_clusters)"
   ]
  }
 ],
 "metadata": {
  "kernelspec": {
   "display_name": "Python 3",
   "language": "python",
   "name": "python3"
  },
  "language_info": {
   "codemirror_mode": {
    "name": "ipython",
    "version": 3
   },
   "file_extension": ".py",
   "mimetype": "text/x-python",
   "name": "python",
   "nbconvert_exporter": "python",
   "pygments_lexer": "ipython3",
   "version": "3.8.8"
  }
 },
 "nbformat": 4,
 "nbformat_minor": 4
}
