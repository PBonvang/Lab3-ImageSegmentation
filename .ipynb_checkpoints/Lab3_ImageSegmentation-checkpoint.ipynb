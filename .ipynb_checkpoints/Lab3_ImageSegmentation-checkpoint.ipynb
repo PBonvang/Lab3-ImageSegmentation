{
 "cells": [
  {
   "cell_type": "markdown",
   "metadata": {},
   "source": [
    "# K-means clustering and Tensorflow image recognition\n",
    "This notebook was created as an experiment, using k-means clustering to determine bottle caps in pictures"
   ]
  },
  {
   "cell_type": "code",
   "execution_count": 68,
   "metadata": {},
   "outputs": [],
   "source": [
    "%matplotlib inline\n",
    "import matplotlib as mpl\n",
    "mpl.rcParams['figure.dpi']=100\n",
    "import numpy as np\n",
    "from imageio import imread\n",
    "from skimage.transform import rescale\n",
    "from skimage.color import rgb2lab, lab2rgb\n",
    "from sklearn.metrics.pairwise import euclidean_distances\n",
    "import matplotlib.pyplot as plt\n",
    "from mpl_toolkits import mplot3d\n",
    "import math\n",
    "import cv2\n",
    "from tensorflow.keras.applications import mobilenet_v2\n",
    "\n",
    "# Set up neural network\n",
    "model = mobilenet_v2.MobileNetV2(weights='imagenet')\n",
    "DESIRED_IMG_HEIGHT = 244"
   ]
  },
  {
   "cell_type": "markdown",
   "metadata": {},
   "source": [
    "Load sample images, reshape them, reducing the workload, and display it."
   ]
  },
  {
   "cell_type": "code",
   "execution_count": 155,
   "metadata": {},
   "outputs": [],
   "source": [
    "def rescaleImage(raw_image):\n",
    "    return rescale(raw_image, DESIRED_IMG_HEIGHT/raw_image.shape[0], mode='reflect', multichannel=True, anti_aliasing=True)\n",
    "\n",
    "def get_image_prediction_score(image, tf_name):\n",
    "    frame = image*np.array([255,255,255])\n",
    "    min_dim = np.min(frame.shape[0:2])\n",
    "    resized_frame = cv2.resize(frame[0:min_dim, 0:min_dim, :], (224, 224))\n",
    "    \n",
    "    processed_frame = mobilenet_v2.preprocess_input(np.expand_dims(resized_frame, axis=0))\n",
    "    predictions = model.predict(processed_frame)\n",
    "    \n",
    "    for node, desc, score in mobilenet_v2.decode_predictions(predictions)[0]:\n",
    "        if (desc == tf_name):\n",
    "            return 100 * score"
   ]
  },
  {
   "cell_type": "code",
   "execution_count": 91,
   "metadata": {},
   "outputs": [],
   "source": [
    "class Image:\n",
    "    def __init__(self,image_path,tf_name):\n",
    "        self.path = image_path\n",
    "        self.image = rescaleImage(imread(image_path_prefix+image_path))\n",
    "        self.tf_name = tf_name\n",
    "        self.base_accuracy = None\n",
    "        self.k_accuracies = None"
   ]
  },
  {
   "cell_type": "code",
   "execution_count": 151,
   "metadata": {
    "scrolled": true
   },
   "outputs": [],
   "source": [
    "image_path_prefix = \"samples/\"\n",
    "images = [\n",
    "    Image('roadsign.jpg', 'street_sign'),\n",
    "    Image('bananas.jpg', 'banana'),\n",
    "    Image('soccerball.jpg', 'soccer_ball'),\n",
    "    Image('dog.jpg','golden_retriever')\n",
    "]"
   ]
  },
  {
   "cell_type": "code",
   "execution_count": 152,
   "metadata": {},
   "outputs": [
    {
     "name": "stdout",
     "output_type": "stream",
     "text": [
      "street_sign 0.9379458\n",
      "banana 0.929082\n",
      "soccer_ball 0.9579769\n",
      "golden_retriever 0.8415896\n"
     ]
    }
   ],
   "source": [
    "########## Get base accuracy ##########\n",
    "for i, image in enumerate(images):\n",
    "    image.base_accuracy = get_image_prediction_score(image.image,image.tf_name)"
   ]
  },
  {
   "cell_type": "markdown",
   "metadata": {},
   "source": [
    "Cluster the image pixels, treating colors as 3-dimensional points"
   ]
  },
  {
   "cell_type": "code",
   "execution_count": 153,
   "metadata": {},
   "outputs": [],
   "source": [
    "############ Clustering algorithems ############\n",
    "def cluster_assignments(X, Y):\n",
    "    return np.argmin(euclidean_distances(X,Y), axis=1)\n",
    "\n",
    "def cluster_analysis(pixels,K):\n",
    "    centers = np.array(\n",
    "        [pixels.mean(0) + (np.random.randn(3)/10) # Because X is an array of pixels each presented by an array of [R,G,B]. X.mean(0) results in an array of [mean(R), mean(G), mean(B)]\n",
    "         for _ in range(K)])\n",
    "    y_kmeans = cluster_assignments(pixels, centers)\n",
    "    previous_cluster_assignments = [];\n",
    "\n",
    "    # repeat estimation a number of times (could do something smarter, like comparing if clusters change)\n",
    "    while not np.array_equal(y_kmeans, previous_cluster_assignments):\n",
    "        # move the centers to the mean of their assigned points (if any)\n",
    "        for i, c in enumerate(centers):\n",
    "            points = pixels[y_kmeans == i]\n",
    "            if len(points):\n",
    "                centers[i] = points.mean(0)\n",
    "\n",
    "        previous_cluster_assignments = y_kmeans.copy()\n",
    "        # assign each point to the closest center\n",
    "        y_kmeans = cluster_assignments(pixels, centers)\n",
    "    \n",
    "    return {\n",
    "        \"assignments\": y_kmeans,\n",
    "        \"centers\": centers\n",
    "    }\n",
    "\n",
    "def average_variance(values, assignments, centers, K):\n",
    "    values = np.array(values)\n",
    "    assignments = np.array(assignments)\n",
    "    centers = np.array(centers)\n",
    "    clusterVariances = []\n",
    "\n",
    "    for i in range(K):\n",
    "        clusterValues = values[assignments==i]\n",
    "        clusterCenter = centers[i-1]\n",
    "        distance = [abs(math.dist(value,clusterCenter)) for value in clusterValues]\n",
    "\n",
    "        if len(clusterValues):\n",
    "            clusterVariances.append(np.sum(distance)/len(clusterValues))\n",
    "        else:\n",
    "            clusterVariances.append(0)\n",
    "\n",
    "    return sum(clusterVariances)/K"
   ]
  },
  {
   "cell_type": "code",
   "execution_count": 166,
   "metadata": {},
   "outputs": [
    {
     "name": "stdout",
     "output_type": "stream",
     "text": [
      "street_sign: [44.93175285203116, 92.1052098274231, 89.99523844037738, 86.18509667260307, 88.97321232727596, 88.85967416422707, 88.71334595339638, 87.02961249010903, 87.3595712014607]\n",
      "banana: [13.163578510284424, 44.668155908584595, 17.010870086295263, 41.13795467785427, 40.207573005131316, 48.82749800171171, 51.61875618355615, 34.40890052488872, 32.05795611654009]\n",
      "soccer_ball: [5.440357252955437, 62.668830156326294, 87.35590653760093, 96.69539315359933, 96.42552069255284, 97.87510565349034, 98.13494793006352, 98.17003096852984, 97.9261872598103]\n",
      "golden_retriever: [0.0, 0.0, 0.0, 0.0, 0.0, 2.2095062317592755, 8.538031319954566, 14.402357369129147, 29.90609119247113]\n",
      "Time elapsed:  1236.3502583503723\n"
     ]
    }
   ],
   "source": [
    "import time\n",
    "start_time=time.time()\n",
    "\n",
    "starting_K = 2\n",
    "K_range = range(starting_K,11)\n",
    "sample_size = 70\n",
    "\n",
    "for image in images:\n",
    "    shape = image.image.shape\n",
    "    pixels = rgb2lab(image.image).reshape(-1, 3) # Lab has a bigger color space\n",
    "    avg_K_accuracies = []\n",
    "    \n",
    "    for K in K_range:\n",
    "        K_accuracies = []\n",
    "        for _ in range(sample_size):\n",
    "            K_values = cluster_analysis(pixels,K)\n",
    "            color_clustered_image = lab2rgb(K_values[\"centers\"][K_values[\"assignments\"],:].reshape(shape[0], shape[1], 3))\n",
    "            \n",
    "            prediction_score = get_image_prediction_score(color_clustered_image,image.tf_name) or 0\n",
    "            K_accuracies.append(prediction_score)\n",
    "        \n",
    "        avg_K_accuracies.append(sum(K_accuracies)/sample_size)\n",
    "    \n",
    "    print(\"{}: {}\".format(image.tf_name,avg_K_accuracies))\n",
    "    image.K_accuracies = avg_K_accuracies\n",
    "\n",
    "end_time=time.time()-start_time\n",
    "print(\"Time elapsed: \", end_time)"
   ]
  },
  {
   "cell_type": "code",
   "execution_count": 167,
   "metadata": {},
   "outputs": [
    {
     "name": "stdout",
     "output_type": "stream",
     "text": [
      "_________________  street_sign  _________________\n",
      "Base accuracy:  93.79457831382751\n",
      "K: 2, score: 44.93175285203116\n",
      "K: 3, score: 92.1052098274231\n",
      "K: 4, score: 89.99523844037738\n",
      "K: 5, score: 86.18509667260307\n",
      "K: 6, score: 88.97321232727596\n",
      "K: 7, score: 88.85967416422707\n",
      "K: 8, score: 88.71334595339638\n",
      "K: 9, score: 87.02961249010903\n",
      "K: 10, score: 87.3595712014607\n",
      "_________________  banana  _________________\n",
      "Base accuracy:  92.90819764137268\n",
      "K: 2, score: 13.163578510284424\n",
      "K: 3, score: 44.668155908584595\n",
      "K: 4, score: 17.010870086295263\n",
      "K: 5, score: 41.13795467785427\n",
      "K: 6, score: 40.207573005131316\n",
      "K: 7, score: 48.82749800171171\n",
      "K: 8, score: 51.61875618355615\n",
      "K: 9, score: 34.40890052488872\n",
      "K: 10, score: 32.05795611654009\n",
      "_________________  soccer_ball  _________________\n",
      "Base accuracy:  95.79768776893616\n",
      "K: 2, score: 5.440357252955437\n",
      "K: 3, score: 62.668830156326294\n",
      "K: 4, score: 87.35590653760093\n",
      "K: 5, score: 96.69539315359933\n",
      "K: 6, score: 96.42552069255284\n",
      "K: 7, score: 97.87510565349034\n",
      "K: 8, score: 98.13494793006352\n",
      "K: 9, score: 98.17003096852984\n",
      "K: 10, score: 97.9261872598103\n",
      "_________________  golden_retriever  _________________\n",
      "Base accuracy:  84.1589629650116\n",
      "K: 2, score: 0.0\n",
      "K: 3, score: 0.0\n",
      "K: 4, score: 0.0\n",
      "K: 5, score: 0.0\n",
      "K: 6, score: 0.0\n",
      "K: 7, score: 2.2095062317592755\n",
      "K: 8, score: 8.538031319954566\n",
      "K: 9, score: 14.402357369129147\n",
      "K: 10, score: 29.90609119247113\n"
     ]
    }
   ],
   "source": [
    "for image in images:\n",
    "    print(\"_________________ \",image.tf_name,\" _________________\")\n",
    "    print(\"Base accuracy: \",image.base_accuracy)\n",
    "    for K in K_range:\n",
    "        print(\"K: {}, score: {}\".format(K, image.K_accuracies[K - starting_K]))"
   ]
  },
  {
   "cell_type": "markdown",
   "metadata": {},
   "source": [
    "****\n",
    "# Old"
   ]
  },
  {
   "cell_type": "code",
   "execution_count": 315,
   "metadata": {},
   "outputs": [
    {
     "name": "stdout",
     "output_type": "stream",
     "text": [
      "Optimal K:  4\n",
      "[52.33494308523436, 39.458149429213506, 47.93761633527235]\n",
      "Time elapsed:  0.42351865768432617\n"
     ]
    }
   ],
   "source": [
    "for image in images:\n",
    "    pixels = rgb2lab(image).reshape(-1, 3) # Lab has a bigger color space\n",
    "    K_accuracies = []\n",
    "    \n",
    "    for K in range(10):\n",
    "        print(K)\n",
    "    \n",
    "\n",
    "import time\n",
    "start_time=time.time()\n",
    "\n",
    "while len(K_variances) < 3\\\n",
    "    or abs(K_variances[K - starting_K - 1] - K_variances[K - starting_K]) \\\n",
    "     > abs((K_variances[K - starting_K - 1] - K_variances[K - starting_K - 2])):\n",
    "    K += 1\n",
    "    \n",
    "    K_values = cluster_analysis(pixels,K)    \n",
    "    K_variances.append(average_variance(pixels,K_values[\"assignments\"], K_values[\"centers\"], K))\n",
    "\n",
    "optimal_K =  K - 1\n",
    "print(\"Optimal K: \", optimal_K)\n",
    "print(K_variances)\n",
    "optimal_values = cluster_analysis(pixels,optimal_K)\n",
    "assignments = optimal_values[\"assignments\"]\n",
    "centers = optimal_values[\"centers\"]\n",
    "    \n",
    "end_time=time.time()-start_time\n",
    "print(\"Time elapsed: \", end_time)\n",
    "\n",
    "color_clustered_image = lab2rgb(centers[assignments,:].reshape(shape[0], shape[1], 3))"
   ]
  },
  {
   "cell_type": "markdown",
   "metadata": {},
   "source": [
    "Plot the result as an image, where each pixel is colored by its cluster mean"
   ]
  },
  {
   "cell_type": "code",
   "execution_count": 313,
   "metadata": {},
   "outputs": [
    {
     "data": {
      "image/png": "[encoded data removed]",
      "text/plain": [
       "<Figure size 600x400 with 1 Axes>"
      ]
     },
     "metadata": {
      "needs_background": "light"
     },
     "output_type": "display_data"
    }
   ],
   "source": [
    "plt.figure()\n",
    "plt.imshow(color_clustered_image)\n",
    "plt.axis('off');"
   ]
  },
  {
   "cell_type": "code",
   "execution_count": 303,
   "metadata": {},
   "outputs": [],
   "source": [
    "class Pixel:\n",
    "    def __init__(self, coordinates, lab):\n",
    "        self.coordinates = coordinates\n",
    "        self.pixel = lab\n",
    "\n",
    "def get_2D_pixel_coordinates_map(array):\n",
    "    shape = array.shape\n",
    "    coordinate_map = [[None]*shape[1] for _ in range(shape[0])]\n",
    "\n",
    "    i = shape[2] - 1\n",
    "    for (y, x, z), element in np.ndenumerate(array):\n",
    "        if (z < i):\n",
    "            continue\n",
    "\n",
    "        coordinate_map[y][x] = Pixel([x,y],array[y,x])\n",
    "    \n",
    "    return np.array(coordinate_map)"
   ]
  },
  {
   "cell_type": "code",
   "execution_count": 308,
   "metadata": {},
   "outputs": [],
   "source": [
    "import math\n",
    "\n",
    "def get_connected_groups(cluster):\n",
    "    non_used_pixels = np.copy(cluster).tolist()\n",
    "    groups = []\n",
    "    \n",
    "    while len(non_used_pixels) > 0:\n",
    "        starting_pixel=non_used_pixels[0]\n",
    "        group = [starting_pixel]\n",
    "        non_used_pixels.remove(starting_pixel)\n",
    "        \n",
    "        iteration_pixels = [starting_pixel]\n",
    "        new_pixels = []\n",
    "        while len(iteration_pixels) > 0:\n",
    "            for group_pixel in iteration_pixels:\n",
    "                for pixel in non_used_pixels:\n",
    "                    if math.dist(group_pixel.coordinates, pixel.coordinates):\n",
    "                        new_pixels.append(pixel)\n",
    "            \n",
    "            for new_pixel in new_pixels:\n",
    "                non_used_pixels.remove(new_pixel)\n",
    "            \n",
    "            group.extend(new_pixels)\n",
    "            iteration_pixels = new_pixels\n",
    "            new_pixels.clear()\n",
    "        \n",
    "        groups.append(group)\n",
    "\n",
    "def get_clusters_separated_by_connection(clusters):\n",
    "    connected_groups = []\n",
    "    for cluster in clusters:\n",
    "        connected_groups.append(get_connected_groups(cluster))\n",
    "    \n",
    "    return connected_groups"
   ]
  },
  {
   "cell_type": "code",
   "execution_count": 310,
   "metadata": {},
   "outputs": [
    {
     "name": "stdout",
     "output_type": "stream",
     "text": [
      "[None, None, None, None]\n"
     ]
    }
   ],
   "source": [
    "coordinate_map = get_2D_pixel_coordinates_map(color_clustered_image).reshape(-1,1)\n",
    "color_clusters = [coordinate_map[assignments == i] for i in range(optimal_K)]\n",
    "connected_clusters = get_clusters_separated_by_connection(color_clusters)\n",
    "print(connected_clusters)"
   ]
  }
 ],
 "metadata": {
  "kernelspec": {
   "display_name": "Python 3",
   "language": "python",
   "name": "python3"
  },
  "language_info": {
   "codemirror_mode": {
    "name": "ipython",
    "version": 3
   },
   "file_extension": ".py",
   "mimetype": "text/x-python",
   "name": "python",
   "nbconvert_exporter": "python",
   "pygments_lexer": "ipython3",
   "version": "3.8.8"
  }
 },
 "nbformat": 4,
 "nbformat_minor": 4
}
